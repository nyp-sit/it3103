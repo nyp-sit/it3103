{
  "nbformat": 4,
  "nbformat_minor": 0,
  "metadata": {
    "accelerator": "GPU",
    "colab": {
      "name": "convnets-with-small-datasets.ipynb",
      "provenance": [],
      "include_colab_link": true
    },
    "kernelspec": {
      "display_name": "Python 3 (ipykernel)",
      "language": "python",
      "name": "python3"
    },
    "language_info": {
      "codemirror_mode": {
        "name": "ipython",
        "version": 3
      },
      "file_extension": ".py",
      "mimetype": "text/x-python",
      "name": "python",
      "nbconvert_exporter": "python",
      "pygments_lexer": "ipython3",
      "version": "3.8.12"
    }
  },
  "cells": [
    {
      "cell_type": "markdown",
      "metadata": {
        "id": "view-in-github",
        "colab_type": "text"
      },
      "source": [
        "<a href=\"https://colab.research.google.com/github/nyp-sit/it3103/blob/main/week3/convnets_with_small_datasets.ipynb\" target=\"_parent\"><img src=\"https://colab.research.google.com/assets/colab-badge.svg\" alt=\"Open In Colab\"/></a>"
      ]
    },
    {
      "cell_type": "markdown",
      "metadata": {
        "id": "0RZIgnFFEv5t"
      },
      "source": [
        "# Lab Exercise: Image Classification using Convolutional Neural Network \n",
        "\n",
        "In this practical, we will see how we can use a Convolutional Neural Network to classify cat and dog images.\n",
        "\n",
        "We will train the network using relatively little data (about 2000 images) which is a common real problem with a lot of deep learning projects where data is hard to come by. We have learnt in the lecture how we can solve the small data problem with some common techniques like data augmentation and transfer learning. We will examine how to use data augmentation in this lab and in the next lab, we will learn to use transfer learning.  "
      ]
    },
    {
      "cell_type": "code",
      "metadata": {
        "id": "qQgbpqHw-vXy"
      },
      "source": [
        "import tensorflow as tf\n",
        "import tensorflow.keras as keras\n",
        "import matplotlib.pyplot as plt\n",
        "import os"
      ],
      "execution_count": null,
      "outputs": []
    },
    {
      "cell_type": "markdown",
      "metadata": {
        "id": "ydQUHIqs-vX6"
      },
      "source": [
        "## Downloading the data\n",
        "\n",
        "The cats vs. dogs dataset is available at Kaggle.com as part of a computer vision \n",
        "competition in late 2013. You can download the [original dataset](\n",
        "https://www.kaggle.com/c/dogs-vs-cats/data) from Kaggle (you will need to create a Kaggle account if you don't already have one)\n",
        "\n",
        "The pictures are medium-resolution color JPEGs and are of various sizes and shapes that look like this:\n",
        "\n",
        "<img src='https://nyp-aicourse.s3.ap-southeast-1.amazonaws.com/it3103/resources/cats_vs_dogs_samples.png' height='300'/>"
      ]
    },
    {
      "cell_type": "markdown",
      "metadata": {
        "id": "d76mWqf7-vX6"
      },
      "source": [
        "This original dataset contains 25,000 images of dogs and cats (12,500 from each class) and is 543MB large (compressed). For the purpose of demonstrating challenges of training with small data set and also to have an opportunity to see the effects of using data augmentation technique, we will use a smaller subset (3000 images) which you can download from [here](https://nyp-aicourse.s3-ap-southeast-1.amazonaws.com/datasets/cats_and_dogs_subset.tar.gz). "
      ]
    },
    {
      "cell_type": "markdown",
      "metadata": {
        "id": "FSQZGCRtReJY"
      },
      "source": [
        "In the codes below, we use the keras ``get_file()`` utility to download and unzip the dataset."
      ]
    },
    {
      "cell_type": "code",
      "metadata": {
        "id": "3JRhg0UBDRT1"
      },
      "source": [
        "dataset_URL = 'https://nyp-aicourse.s3-ap-southeast-1.amazonaws.com/datasets/cats_and_dogs_subset.tar.gz'\n",
        "path_to_zip = tf.keras.utils.get_file('cats_and_dogs_subset.tar.gz', origin=dataset_URL, extract=True, cache_dir='.')\n",
        "dataset_dir = os.path.join(os.path.dirname(path_to_zip), \"cats_and_dogs_subset\")"
      ],
      "execution_count": null,
      "outputs": []
    },
    {
      "cell_type": "code",
      "metadata": {
        "id": "_rXZ-dlU-vYA"
      },
      "source": [
        "dogs_dir = os.path.join(dataset_dir, \"dogs\")\n",
        "cats_dir = os.path.join(dataset_dir, \"cats\")\n",
        "print('total dog images:', len(os.listdir(dogs_dir)))\n",
        "print('total cat images:', len(os.listdir(cats_dir)))"
      ],
      "execution_count": null,
      "outputs": []
    },
    {
      "cell_type": "markdown",
      "metadata": {
        "id": "chQJRgxL-vYB"
      },
      "source": [
        "So we indeed have 3000 training images, 1500 each for cats and dogs. This is a balanced binary classification problem, which means that classification accuracy will be an appropriate measure of success."
      ]
    },
    {
      "cell_type": "markdown",
      "metadata": {
        "id": "RMXLfrh6-vYB"
      },
      "source": [
        "## Building our network\n",
        "\n",
        "Our convnet will be a stack of alternate `Conv2D` (with `relu` activation) and `MaxPooling2D` layers.\n",
        "\n",
        "**Exercise 1**: \n",
        "\n",
        "Write the codes to implement the following: \n",
        "\n",
        "- Input layer should be of shape (128,128,3)\n",
        "- Rescaling layer to scale pixel values to between 0,1\n",
        "- The hidden layers consist of the following Conv2D/MaxPooling2D blocks:\n",
        "  - Block 1: Conv layer with 32 filters with filter size of 3x3, followed by MaxPooling layer\n",
        "  - Block 2: Conv layer with 64 filters with filter size of 3x3, followed by MaxPooling layer\n",
        "  - Block 3 and 4: Conv layer with 128 filters with filter size of 3x3, followed by MaxPooling layer\n",
        "  - A Layer to convert 2D to 1D\n",
        "- A Dense Layer with 512 neurons\n",
        "- Output layer using Dense Layer\n",
        "\n",
        "Use RELU as activation functions for all hidden layers. \n",
        "\n",
        "What activation function should you use for the output layer?\n",
        "\n",
        "<br/>\n",
        "\n",
        "<details>\n",
        "<summary>Click here for answer</summary>\n",
        "\n",
        "```python\n",
        "def make_model():\n",
        "    \n",
        "    model = keras.models.Sequential()\n",
        "    model.add(keras.layers.Input(shape=(128, 128, 3)))\n",
        "    model.add(keras.layers.Rescaling(scale=1./255))\n",
        "    model.add(keras.layers.Conv2D(32, (3, 3), activation='relu'))\n",
        "    model.add(keras.layers.MaxPooling2D((2, 2)))\n",
        "    model.add(keras.layers.Conv2D(64, (3, 3), activation='relu'))\n",
        "    model.add(keras.layers.MaxPooling2D((2, 2)))\n",
        "    model.add(keras.layers.Conv2D(128, (3, 3), activation='relu'))\n",
        "    model.add(keras.layers.MaxPooling2D((2, 2)))\n",
        "    model.add(keras.layers.Conv2D(128, (3, 3), activation='relu'))\n",
        "    model.add(keras.layers.MaxPooling2D((2, 2)))\n",
        "    model.add(keras.layers.Flatten())\n",
        "    model.add(keras.layers.Dense(512, activation='relu'))\n",
        "    model.add(keras.layers.Dense(1, activation='sigmoid'))\n",
        "\n",
        "    return model\n",
        "\n",
        "model = make_model()\n",
        "\n",
        "```\n",
        "</details>"
      ]
    },
    {
      "cell_type": "code",
      "metadata": {
        "id": "J-6zYJGn-vYB"
      },
      "source": [
        "### TODO: Write the code to build the model and compile the model \n",
        "def make_model():\n",
        "    \n",
        "    model = ??\n",
        "\n",
        "    return model\n",
        "\n",
        "model = make_model()\n"
      ],
      "execution_count": null,
      "outputs": []
    },
    {
      "cell_type": "markdown",
      "metadata": {
        "id": "5EN4zoVi-vYC"
      },
      "source": [
        "Let's print the model summary to show the shape and paramater numbers for each layer. Your output should look something like this: \n",
        "\n",
        "<img src=\"https://nyp-aicourse.s3.ap-southeast-1.amazonaws.com/it3103/resources/convnet_summary.png\" width=400/>"
      ]
    },
    {
      "cell_type": "code",
      "metadata": {
        "id": "6FJD8b_2-vYC"
      },
      "source": [
        "model.summary()"
      ],
      "execution_count": null,
      "outputs": []
    },
    {
      "cell_type": "markdown",
      "metadata": {
        "id": "wqBfX0po-vYC"
      },
      "source": [
        "**Exercise 2**: \n",
        "\n",
        "Compile your model with the appropriate optimizer and loss function. We will use Adam with learning rate of 1e-4 and monitor the 'accuracy' metrics. What should we use for the loss function? \n",
        "\n",
        "Complete the code below. \n",
        "\n",
        "<br/>\n",
        "<details>\n",
        "<summary>Click here for answer</summary>\n",
        "\n",
        "```\n",
        "model.compile(loss='binary_crossentropy',\n",
        "              optimizer=keras.optimizers.Adam(learning_rate=1e-4),\n",
        "              metrics=['accuracy'])\n",
        "```\n",
        "</details>"
      ]
    },
    {
      "cell_type": "code",
      "metadata": {
        "id": "BOdPRQ8j-vYC"
      },
      "source": [
        "### TODO: Complete the code below ####\n"
      ],
      "execution_count": null,
      "outputs": []
    },
    {
      "cell_type": "markdown",
      "metadata": {
        "id": "9We2Khkc-vYC"
      },
      "source": [
        "## Data preprocessing\n",
        "\n",
        "Image data should be formatted into appropriately pre-processed floating point tensors before being fed into our \n",
        "network. Currently, our data sits on a drive as JPEG files, so the steps for getting it into our network are roughly:\n",
        "\n",
        "* Read the picture files.\n",
        "* Decode the JPEG content to RGB grids of pixels.\n",
        "* Resize the image into same size (e.g, 128 x 128 in our case)\n",
        "* Convert these into floating point tensors.\n",
        "\n",
        "It may seem a bit daunting, but `tf.keras.preprocessing.image_dataset_from_directory()` (similar to `ImageDataGenerator` class) allows us to do all this rather painlessly. It also allows us to specify how to split the data into training and validation set.  We will use 80-20 split. \n",
        "\n",
        "`tf.keras.preprocessing.image_dataset_from_directory()` creates a dataset iterator using the [`tf.data.Dataset`](https://www.tensorflow.org/api_docs/python/tf/data/Dataset)"
      ]
    },
    {
      "cell_type": "code",
      "metadata": {
        "id": "usGtYvV8CK0J"
      },
      "source": [
        "img_height, img_width = 128, 128\n",
        "batch_size = 32\n",
        "\n",
        "# resize all the images to the same size as expected by VGG model we downloaded above\n",
        "image_size = (img_height, img_width)\n",
        "\n",
        "train_ds = keras.preprocessing.image_dataset_from_directory(\n",
        "    dataset_dir,\n",
        "    validation_split=0.2,\n",
        "    subset=\"training\",\n",
        "    seed=1337,\n",
        "    image_size=image_size,\n",
        "    batch_size=batch_size,\n",
        "    label_mode='binary'\n",
        ")\n",
        "val_ds = keras.preprocessing.image_dataset_from_directory(\n",
        "    dataset_dir,\n",
        "    validation_split=0.2,\n",
        "    subset=\"validation\",\n",
        "    seed=1337,\n",
        "    image_size=image_size,\n",
        "    batch_size=batch_size,\n",
        "    label_mode='binary'\n",
        ")"
      ],
      "execution_count": null,
      "outputs": []
    },
    {
      "cell_type": "markdown",
      "metadata": {
        "id": "qzFJ1ptz-vYD"
      },
      "source": [
        "We can use the `take(1)` to retrieve 1 batch of samples from the train dataset. As we specify batch size of 32,  it yields batches of 120 x 128 RGB images (shape `(32, 128, 128, 3)`) and binary \n",
        "labels (shape `(32,1)`). 32 is the number of samples in each batch (the batch size)."
      ]
    },
    {
      "cell_type": "code",
      "metadata": {
        "id": "tQJxIZGy-vYD"
      },
      "source": [
        "for images, labels in train_ds.take(1):\n",
        "    print('images shape:', images.shape)\n",
        "    print('labels shape:', labels.shape)\n",
        "    print(tf.squeeze(labels))"
      ],
      "execution_count": null,
      "outputs": []
    },
    {
      "cell_type": "markdown",
      "metadata": {
        "id": "tOx2NhAYQ0XF"
      },
      "source": [
        "How do we know what label is assigned to each of the class? We can use class_names of the dataset to show the class labels. The index position will be the actual numeric label mapped to the class names. In this case, cats=0, dogs=1. By default, `keras.preprocessing.image_dataset_from_directory` assign the labels based on alphanumerical order."
      ]
    },
    {
      "cell_type": "code",
      "metadata": {
        "id": "7fifOVDCQwva"
      },
      "source": [
        "train_ds.class_names"
      ],
      "execution_count": null,
      "outputs": []
    },
    {
      "cell_type": "markdown",
      "metadata": {
        "id": "tedmUKwPDHFe"
      },
      "source": [
        "## Visualization using Tensorboard\n",
        "\n",
        "Let's define a utility function to create a Tensorboard callback function that can be used by the model training later. We will also create a ModelCheckpoint callback tha allows us save the best checkpoint (in terms of validation accuracy) during the training. \n"
      ]
    },
    {
      "cell_type": "code",
      "metadata": {
        "id": "cI2leTe5C2oR"
      },
      "source": [
        "def create_tb_callback(): \n",
        "\n",
        "    root_logdir = os.path.join(os.curdir, \"tb_logs\")\n",
        "\n",
        "    def get_run_logdir():    # use a new directory for each run\n",
        "\t    import time\n",
        "\t    run_id = time.strftime(\"run_%Y_%m_%d-%H_%M_%S\")\n",
        "\t    return os.path.join(root_logdir, run_id)\n",
        "\n",
        "    run_logdir = get_run_logdir()\n",
        "\n",
        "    tb_callback = tf.keras.callbacks.TensorBoard(run_logdir)\n",
        "\n",
        "    return tb_callback\n",
        "\n",
        "model_checkpoint_callback = tf.keras.callbacks.ModelCheckpoint(\n",
        "    filepath=\"bestcheckpoint\",\n",
        "    save_weights_only=True,\n",
        "    monitor='val_accuracy',\n",
        "    mode='max',\n",
        "    save_best_only=True)\n"
      ],
      "execution_count": null,
      "outputs": []
    },
    {
      "cell_type": "markdown",
      "metadata": {
        "id": "N4YMOgW8REAx"
      },
      "source": [
        "## Train the Model\n",
        "\n",
        "Let's start the training"
      ]
    },
    {
      "cell_type": "code",
      "metadata": {
        "id": "XwyFdTu8-vYD"
      },
      "source": [
        "model.fit(\n",
        "    train_ds,\n",
        "    epochs=30,\n",
        "    validation_data=val_ds,\n",
        "    callbacks=[create_tb_callback(), model_checkpoint_callback])"
      ],
      "execution_count": null,
      "outputs": []
    },
    {
      "cell_type": "markdown",
      "metadata": {
        "id": "7R9qafGC9U9e"
      },
      "source": [
        "Let's restore the best checkpoints to the model (remember the last checkpoint may not be the best model checkpoint). We will use the model to evaluate the our validation dataset, just to see what is our best validation accuracy achieved."
      ]
    },
    {
      "cell_type": "code",
      "metadata": {
        "id": "_cEi0nA79o6e"
      },
      "source": [
        "model.load_weights('bestcheckpoint')\n",
        "model.evaluate(val_ds)"
      ],
      "execution_count": null,
      "outputs": []
    },
    {
      "cell_type": "markdown",
      "metadata": {
        "id": "mS2NA64l-vYE"
      },
      "source": [
        "Let's visualize our training and validation accuracy and loss using Tensorboard."
      ]
    },
    {
      "cell_type": "code",
      "metadata": {
        "id": "Eje5UEye-vYE"
      },
      "source": [
        "# Load the TensorBoard notebook extension\n",
        "%load_ext tensorboard"
      ],
      "execution_count": null,
      "outputs": []
    },
    {
      "cell_type": "code",
      "metadata": {
        "id": "TEI1hpgL67Ts"
      },
      "source": [
        "%tensorboard --logdir tb_logs"
      ],
      "execution_count": null,
      "outputs": []
    },
    {
      "cell_type": "markdown",
      "metadata": {
        "id": "uOZTbSxL-vYE"
      },
      "source": [
        "These plots are characteristic of overfitting. Our training accuracy increases linearly over time, until it reaches nearly 100%, while our \n",
        "validation accuracy stalls at 75%. Our validation loss reaches its minimum after only five epochs then stalls, while the training loss \n",
        "keeps decreasing linearly until it reaches nearly 0.\n",
        "\n",
        "Because we only have relatively few training samples (2400), overfitting is going to be our number one concern. There are a \n",
        "number of techniques that can help mitigate overfitting, such as dropout and weight decay (L2 regularization). We are now going to \n",
        "use one, specific to computer vision, and used almost universally when processing images with deep learning models: *data \n",
        "augmentation*."
      ]
    },
    {
      "cell_type": "markdown",
      "metadata": {
        "id": "9e9YQpQ8-vYE"
      },
      "source": [
        "## Using data augmentation\n",
        "\n",
        "Overfitting is caused by having too few samples to learn from, rendering us unable to train a model able to generalize to new data. \n",
        "Given infinite data, our model would be exposed to every possible aspect of the data distribution at hand: we would never overfit. Data \n",
        "augmentation takes the approach of generating more training data from existing training samples, by \"augmenting\" the samples via a number \n",
        "of random transformations that yield believable-looking images. This helps the model get exposed to more aspects of the data and generalize better. \n",
        "\n",
        "In the code below, we will check the tensorflow version and instantiate the correct layer depending on the version. We only one RandomRotation layer in the example below. The value 0.3 refers to the maximum rotation angle in both clock-wise and anti-clockwise direction. You can find out more info from the [documentation](https://www.tensorflow.org/api_docs/python/tf/keras/layers/RandomRotation)"
      ]
    },
    {
      "cell_type": "code",
      "metadata": {
        "id": "vbAfiBdu-vYE"
      },
      "source": [
        "data_augmentation = keras.Sequential(\n",
        "    [\n",
        "        keras.layers.RandomRotation(0.3)\n",
        "    ]\n",
        ")"
      ],
      "execution_count": null,
      "outputs": []
    },
    {
      "cell_type": "markdown",
      "metadata": {
        "id": "chGB_tp0OmVI"
      },
      "source": [
        "\n",
        "To see the effects of data augmentation, let us apply our data_augmentation layer to a sample image."
      ]
    },
    {
      "cell_type": "code",
      "metadata": {
        "id": "lGJAgFv7OojQ"
      },
      "source": [
        "import matplotlib.pyplot as plt \n",
        "\n",
        "images, _ = next(train_ds.take(1).as_numpy_iterator())\n",
        "sample_image = images[0]/255.\n",
        "plt.imshow(sample_image)\n",
        "sample_image = tf.expand_dims(sample_image, 0)\n",
        "print(sample_image.shape)"
      ],
      "execution_count": null,
      "outputs": []
    },
    {
      "cell_type": "code",
      "metadata": {
        "id": "3gtBzOgkP3ng"
      },
      "source": [
        "plt.figure(figsize=(20, 20))\n",
        "for i in range(19):\n",
        "    augmented_image = data_augmentation(sample_image)\n",
        "    ax = plt.subplot(5, 4, i + 1)\n",
        "    plt.imshow(augmented_image[0])\n",
        "    plt.axis(\"off\")"
      ],
      "execution_count": null,
      "outputs": []
    },
    {
      "cell_type": "markdown",
      "metadata": {
        "id": "x_qiDkZc-vYF"
      },
      "source": [
        "**Exercise 3:**\n",
        "\n",
        "Modify `data_augmention` above to add in [Random Flipping](https://www.tensorflow.org/api_docs/python/tf/keras/layers/RandomFlip) and [Random Zoom](https://www.tensorflow.org/api_docs/python/tf/keras/layers/RandomZoom). Choose the appropriate values for the flipping and cropping heights/widths. \n",
        "\n",
        "<details><summary>Click here for answer</summary>\n",
        "\n",
        "```python\n",
        "\n",
        "data_augmentation = keras.Sequential(\n",
        "    [\n",
        "        keras.layers.RandomRotation(0.3),\n",
        "        keras.layers.RandomFlip(mode=\"horizontal\"),\n",
        "        keras.layers.RandomZoom(0.2)\n",
        "    ]\n",
        ")\n",
        "```\n",
        "</details>\n"
      ]
    },
    {
      "cell_type": "code",
      "metadata": {
        "id": "GxLPiFmw-vYF"
      },
      "source": [
        "data_augmentation = ??"
      ],
      "execution_count": null,
      "outputs": []
    },
    {
      "cell_type": "markdown",
      "metadata": {
        "id": "2I6r5H9B-vYF"
      },
      "source": [
        "**Exercise 4:**\n",
        "\n",
        "Modify `make_model()` to apply data augmention layers you have created earlier. Where should you place your augmentation layer?\n",
        "\n",
        "To further fight overfitting, we will also add a Dropout layer to our model, right before the densely-connected classifier.\n",
        "\n",
        "<details>\n",
        "<summary>Click here for answer</summary>\n",
        "\n",
        "```python\n",
        "def make_model():\n",
        "\n",
        "    model = keras.models.Sequential()\n",
        "    model.add(keras.layers.Input(shape=(128, 128, 3)))\n",
        "    model.add(data_augmentation)\n",
        "    model.add(keras.layers.Rescaling(scale=1./255))\n",
        "    model.add(keras.layers.Conv2D(32, (3, 3), activation='relu'))\n",
        "    model.add(keras.layers.MaxPooling2D((2, 2)))\n",
        "    model.add(keras.layers.Conv2D(64, (3, 3), activation='relu'))\n",
        "    model.add(keras.layers.MaxPooling2D((2, 2)))\n",
        "    model.add(keras.layers.Conv2D(128, (3, 3), activation='relu'))\n",
        "    model.add(keras.layers.MaxPooling2D((2, 2)))\n",
        "    model.add(keras.layers.Conv2D(128, (3, 3), activation='relu'))\n",
        "    model.add(keras.layers.MaxPooling2D((2, 2)))\n",
        "    model.add(keras.layers.Flatten())\n",
        "    model.add(layers.Dropout(0.5))\n",
        "    model.add(keras.layers.Dense(512, activation='relu'))\n",
        "    model.add(keras.layers.Dense(1, activation='sigmoid'))\n",
        "\n",
        "    return model\n",
        "\n",
        "model = make_model()\n",
        "\n",
        "model.compile(loss='binary_crossentropy',\n",
        "              optimizer=keras.optimizers.Adam(learning_rate=1e-4),\n",
        "              metrics=['accuracy'])\n",
        "```\n",
        "\n",
        "</details>\n"
      ]
    },
    {
      "cell_type": "code",
      "metadata": {
        "id": "Lfk0cqS2YHYj"
      },
      "source": [
        "def make_model():\n",
        "\n",
        "    model = keras.models.Sequential()\n",
        "    \n",
        "    model.add(??)\n",
        "\n",
        "    return model\n",
        "\n",
        "model = make_model()\n",
        "\n",
        "model.compile(??)\n"
      ],
      "execution_count": null,
      "outputs": []
    },
    {
      "cell_type": "code",
      "metadata": {
        "id": "LUsyk60w8Ow5"
      },
      "source": [
        "model.summary()"
      ],
      "execution_count": null,
      "outputs": []
    },
    {
      "cell_type": "markdown",
      "metadata": {
        "id": "X5fmnlwSG6vq"
      },
      "source": [
        "Let's train our network using data augmentation and dropout. We also need to train for more epochs, so that our network has better chance of seeing all the original images (since now we cannot guarantee that for each epoch, our original image is chosen at least once, instead, the ImageDataGenerator may choose randomly transformed image instead)"
      ]
    },
    {
      "cell_type": "code",
      "metadata": {
        "id": "W1eWVr6WKuo9"
      },
      "source": [
        "### Note: the training will take quite a while. We have previously trained the model for 100-epochs.\n",
        "### You can download the checkpoints by uncommenting the following and skip the next cell \"mode.fit()\"\n",
        "\n",
        "# !wget https://nyp-aicourse.s3.ap-southeast-1.amazonaws.com/it3103/checkpoints/week3-1-100epochs.zip\n",
        "# !unzip week3-1-100epochs.zip"
      ],
      "execution_count": null,
      "outputs": []
    },
    {
      "cell_type": "code",
      "metadata": {
        "id": "Iv2sEKTrYl81"
      },
      "source": [
        "## Comment out this if you just want to use the pretrained weights\n",
        "model.fit(train_ds, validation_data=val_ds, \n",
        "          epochs=100, \n",
        "          callbacks=[create_tb_callback(), model_checkpoint_callback])"
      ],
      "execution_count": null,
      "outputs": []
    },
    {
      "cell_type": "code",
      "metadata": {
        "id": "KI1D6tyc-HPT"
      },
      "source": [
        "model.load_weights(\"bestcheckpoint\")\n",
        "model.evaluate(val_ds)"
      ],
      "execution_count": null,
      "outputs": []
    },
    {
      "cell_type": "markdown",
      "metadata": {
        "id": "sRZY8r1O-vYG"
      },
      "source": [
        "Let's visualize our training using Tensorboard."
      ]
    },
    {
      "cell_type": "code",
      "metadata": {
        "id": "5LZDuZaW-vYG"
      },
      "source": [
        "%tensorboard --logdir tb_logs"
      ],
      "execution_count": null,
      "outputs": []
    },
    {
      "cell_type": "markdown",
      "metadata": {
        "id": "MOLypNoy-vYG"
      },
      "source": [
        "Thanks to data augmentation and dropout, we are no longer overfitting: the training curves are more closely tracking the validation \n",
        "curves. We are now able to reach an accuracy of 80%, slightly better than previously.\n",
        "\n",
        "However, it would be very difficult to improve the model any further even with data augmentation. The augmented images are still heavily correlated, since they come from a small number of original images -- we cannot produce new information, we can only remix existing information. As next step to improve our accuracy on this problem, we will have to leverage transfer learning using pre-trained model, which will be the focus of the lesson."
      ]
    }
  ]
}