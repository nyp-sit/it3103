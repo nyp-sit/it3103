{
  "cells": [
    {
      "cell_type": "markdown",
      "metadata": {
        "id": "view-in-github",
        "colab_type": "text"
      },
      "source": [
        "<a href=\"https://colab.research.google.com/github/nyp-sit/it3103/blob/main/week4/2.feature_extraction.ipynb\" target=\"_parent\"><img src=\"https://colab.research.google.com/assets/colab-badge.svg\" alt=\"Open In Colab\"/></a>"
      ]
    },
    {
      "cell_type": "markdown",
      "metadata": {
        "id": "KzhOTiHVcQW1"
      },
      "source": [
        "# Transfer learning - Feature Extraction\n",
        "\n",
        "Welcome to this week's programming exercise. In this exercise, we use transfer learning to improve our baseline model. We will use a pre-trained model (VGG19) as a feature extractor and use the extracted features to train a classifier for our emotion classification task.\n",
        "\n",
        "At the end of this exercise, you will be able to: \n",
        "- understand how to load a pretrained model with and without the classification layer  \n",
        "- extract features using the pre-trained model as feature extractor\n",
        "- train a classifier using the extracted features \n"
      ]
    },
    {
      "cell_type": "markdown",
      "metadata": {
        "id": "zE_WxnF6cQW2"
      },
      "source": [
        "Transfer learning involved using the \"knowledge\" learnt from another task (e.g. doing image classification on a large dataset such as ImageNet) and transfer that knowledge to a new and related task (e.g doing image classification on different types of objects than the original ones or for doing object detection). There are two ways to leverage a pre-trained network: feature extraction and fine-tuning. Let's start with feature extraction approach. "
      ]
    },
    {
      "cell_type": "markdown",
      "metadata": {
        "id": "LhhojEoUcQW2"
      },
      "source": [
        "## Feature extraction\n",
        "\n",
        "In this approach, we only take the convolutional base of a pretrained model and use it to extract features from the images, and use the extracted features as input features to train a separate classifier. \n",
        "\n",
        "<img src=\"https://nyp-aicourse.s3.ap-southeast-1.amazonaws.com/it3103/resources/swapping_fc_classifier.png\" width=\"500\" />"
      ]
    },
    {
      "cell_type": "markdown",
      "metadata": {
        "id": "Q-jVRqR4cQW4"
      },
      "source": [
        "### Using pre-trained Model as Feature Extractor\n",
        "\n",
        "We will be using VGG19 as our pretrained model (you can choose any other pretrained model, such as ResNet, etc). Keras comes with a set of [pretrained models](https://www.tensorflow.org/api_docs/python/tf/keras/applications) you can choose from. In the following call, we load the model VGG19 without including the classification layers (`include_top=False`). In the weights, we specify that we want to download the weights that was trained on ImageNet dataset."
      ]
    },
    {
      "cell_type": "code",
      "execution_count": null,
      "metadata": {
        "id": "3YwEl2QzcQW3"
      },
      "outputs": [],
      "source": [
        "import os\n",
        "import tensorflow as tf\n",
        "import keras\n",
        "import numpy as np\n",
        "import keras.layers as layers\n",
        "from keras.applications import vgg16\n",
        "from sklearn.metrics import classification_report"
      ]
    },
    {
      "cell_type": "code",
      "execution_count": null,
      "metadata": {
        "id": "hOOmRfUJcQW6"
      },
      "outputs": [],
      "source": [
        "# Specify the intended image size we want\n",
        "img_height, img_width = 128, 128\n",
        "base_model = keras.applications.VGG16(input_shape=(img_height, img_width) + (3,),\n",
        "                                         include_top=False,\n",
        "                                         weights='imagenet')\n",
        "base_model.summary()"
      ]
    },
    {
      "cell_type": "markdown",
      "metadata": {
        "id": "WUCJI-mBcQW7"
      },
      "source": [
        "**Exercise:**\n",
        "\n",
        "Examine the print out from `model.summary()`\n",
        "- What is the last layer in the pretrained model and what is the output shape? Do you have any Fully connected layers?\n",
        "\n",
        "<details><summary>Click here for answer</summary>\n",
        "\n",
        "The last layer is the MaxPooling2D layer. The output is a 512 feature maps of 4x4 size. There is no Fully connected (Dense) layers. The network is a convolutional base network.\n",
        "\n",
        "</details>"
      ]
    },
    {
      "cell_type": "markdown",
      "metadata": {
        "id": "w1G3q88hcQW8"
      },
      "source": [
        "## Creating Datasets\n",
        "\n",
        "We will setup our training and validation dataset as we did in earlier exercise."
      ]
    },
    {
      "cell_type": "code",
      "execution_count": null,
      "metadata": {
        "id": "3YNaBmEecQW8"
      },
      "outputs": [],
      "source": [
        "dataset_URL = 'https://nyp-aicourse.s3-ap-southeast-1.amazonaws.com/datasets/cats_and_dogs_subset.tar.gz'\n",
        "path_to_zip = keras.utils.get_file('cats_and_dogs_subset.tar.gz', origin=dataset_URL, extract=True, cache_dir='.')\n",
        "dataset_dir = os.path.join(os.path.dirname(path_to_zip), \"cats_and_dogs_subset\")"
      ]
    },
    {
      "cell_type": "code",
      "execution_count": null,
      "metadata": {
        "id": "_wnngZlZcQW9"
      },
      "outputs": [],
      "source": [
        "batch_size = 32\n",
        "\n",
        "# resize all the images to the same size as expected by VGG model we downloaded above\n",
        "image_size = (img_height, img_width)\n",
        "\n",
        "train_ds = keras.utils.image_dataset_from_directory(\n",
        "    dataset_dir,\n",
        "    validation_split=0.2,\n",
        "    subset=\"training\",\n",
        "    seed=1337,\n",
        "    image_size=image_size,\n",
        "    batch_size=batch_size,\n",
        "    label_mode='binary'\n",
        ")\n",
        "val_ds = keras.utils.image_dataset_from_directory(\n",
        "    dataset_dir,\n",
        "    validation_split=0.2,\n",
        "    subset=\"validation\",\n",
        "    seed=1337,\n",
        "    image_size=image_size,\n",
        "    batch_size=batch_size,\n",
        "    label_mode='binary'\n",
        ")"
      ]
    },
    {
      "cell_type": "markdown",
      "metadata": {
        "id": "1QWlVQdkcQW9"
      },
      "source": [
        "### Extracting features on the train set \n",
        "\n",
        "We will first define a function to perform feature extraction, given an image dataset. \n",
        "\n",
        "We can use `predict()` of the model to loop through all the train images (and also the validation images), or just pass the images directly to the keras model, e.g. `model(images)`. The output will be the features spit out by the convolutional base. We will then use these features as our training samples instead of the original images.\n",
        "\n",
        "However, before we pass the images through the convolutional base, it is IMPORTANT to pre-process the image using the model-specific preprocessing function. Many people *FORGOT* about this step. Different model expect the images to be of specific range of values (e.g. some models expect the pixel values to be between 0 and 1, some between -1 and 1) and specific channel ordering (e.g. VGGNet expects the channel to be BGR). So we need to make sure our images are pre-processed according to what the model expects."
      ]
    },
    {
      "cell_type": "code",
      "execution_count": null,
      "metadata": {
        "id": "sD7rPV3zcQW9"
      },
      "outputs": [],
      "source": [
        "# retrieve the preprocess_input function of vgg16 for use later \n",
        "preprocess_input_fn = vgg16.preprocess_input"
      ]
    },
    {
      "cell_type": "code",
      "execution_count": null,
      "metadata": {
        "id": "W90bXhWHcQW-"
      },
      "outputs": [],
      "source": [
        "base_model.trainable = False\n",
        "\n",
        "def get_features_labels(dataset): \n",
        "\n",
        "    all_features = []\n",
        "    all_labels = []\n",
        "\n",
        "    for images, labels in dataset:   # each iteration yields a batch of images\n",
        "        # pre-process the features\n",
        "        preprocessed_images = preprocess_input_fn(images)\n",
        "        features = base_model(preprocessed_images)\n",
        "        \n",
        "        # append the batch of features to all_features and all_labels\n",
        "        all_features.append(features)\n",
        "        all_labels.append(labels)\n",
        "\n",
        "    # concatenate the features from all the batches\n",
        "    all_features, all_labels = np.concatenate(all_features), np.concatenate(all_labels)\n",
        "    \n",
        "    return all_features, all_labels\n"
      ]
    },
    {
      "cell_type": "markdown",
      "metadata": {
        "id": "ijgudSr7cQW-"
      },
      "source": [
        "Now we will call the extract function on both training dataset and validation dataset."
      ]
    },
    {
      "cell_type": "code",
      "execution_count": null,
      "metadata": {
        "id": "Kb5ThObpcQW-"
      },
      "outputs": [],
      "source": [
        "# Extract features and labels for train set\n",
        "X_train, y_train = get_features_labels(train_ds)\n",
        "\n",
        "# Extract features and labels for validation set\n",
        "X_val, y_val = get_features_labels(val_ds)"
      ]
    },
    {
      "cell_type": "code",
      "execution_count": null,
      "metadata": {
        "id": "dNQvgD4EcQW-"
      },
      "outputs": [],
      "source": [
        "# Check the shape of the features\n",
        "print(X_train.shape)\n",
        "print(X_val.shape)"
      ]
    },
    {
      "cell_type": "markdown",
      "metadata": {
        "id": "YZrc_5cVcQW_"
      },
      "source": [
        "We will now save the features to local storage, as numpy arrays. We will load these features later on to be used for training our classifiers."
      ]
    },
    {
      "cell_type": "code",
      "execution_count": null,
      "metadata": {
        "id": "8CirH4sWcQW_"
      },
      "outputs": [],
      "source": [
        "np.save(\"X_train.npy\", X_train)\n",
        "np.save(\"y_train.npy\", y_train)\n",
        "np.save(\"X_val.npy\", X_val)\n",
        "np.save(\"y_val.npy\", y_val)"
      ]
    },
    {
      "cell_type": "markdown",
      "metadata": {
        "id": "RKldlOhOcQW_"
      },
      "source": [
        "## Classification model\n",
        "\n",
        "Now we will build a new classification model that takes in the extracted features as input. Instead of the usual flatten layer, followed by dense layers, let us use a GAP layer, followed by Dense (with 512 units), a Dropout (with 50%) and another Dense that output the prediction. Compile your model using Adam with a learning rate of 0.001.\n",
        "\n",
        "**Exercise:**\n",
        "\n",
        "1. What should be input shape to our model? \n",
        "2. What is the output shape of the Global Average Pooling (GAP) layer? \n",
        "3. How many units we need for output, and what should we use as activation function? \n",
        "\n",
        "Complete the code below. \n",
        "\n",
        "<details><summary>Click here for answer</summary>\n",
        "    \n",
        "1. The input shape should be (4, 4, 512) which is the output shape of our convolutional base\n",
        "2. The output shape of GAP is (512) since the maxpooling layer (the last layer) of the convolutional base has 512 feature maps (channels). \n",
        "3. We need only 1 output unit as we are doing binary classification (0 or 1) and we should use 'sigmoid' as the activation function for binary classification. \n",
        "\n",
        "Codes: \n",
        "\n",
        "```python\n",
        "inputs = layers.Input(shape=X_train.shape[1:])\n",
        "x = layers.GlobalAveragePooling2D()(inputs)\n",
        "x = layers.Dropout(rate=0.5)(x)\n",
        "x = layers.Dense(units=512, activation=\"relu\")(x)\n",
        "x = layers.Dropout(rate=0.5)(x)\n",
        "outputs = layers.Dense(units=1, activation=\"sigmoid\")(x)\n",
        "\n",
        "model_top = keras.models.Model(inputs=[inputs], outputs=[outputs], name=\"top\")\n",
        "\n",
        "model_top.compile(loss=\"binary_crossentropy\", \n",
        "                  optimizer=keras.optimizers.Adam(learning_rate=0.001), \n",
        "                  metrics=[\"accuracy\"])\n",
        "\n",
        "``` \n",
        "\n",
        "</details>\n"
      ]
    },
    {
      "cell_type": "code",
      "execution_count": null,
      "metadata": {
        "id": "trMqDpjPcQW_"
      },
      "outputs": [],
      "source": [
        "## TODO: build your classification model here, try to use functional API to do so.\n",
        "\n",
        "model_top = ?"
      ]
    },
    {
      "cell_type": "code",
      "execution_count": null,
      "metadata": {
        "id": "8oOdyJjYcQW_"
      },
      "outputs": [],
      "source": [
        "model_top.summary()"
      ]
    },
    {
      "cell_type": "markdown",
      "metadata": {
        "id": "JVJWxOVgcQXA"
      },
      "source": [
        "Now we train our classifier we the extracted features (X_train) for 100 epochs. The training will be fast, as we only have very few parameters (around 200k) to train."
      ]
    },
    {
      "cell_type": "code",
      "execution_count": null,
      "metadata": {
        "id": "jBd_NrImcQXA"
      },
      "outputs": [],
      "source": [
        "# we will now load the extracted features from the files we save to earlier\n",
        "X_train = np.load('X_train.npy')\n",
        "y_train = np.load('y_train.npy')\n",
        "X_val = np.load('X_val.npy')\n",
        "y_val = np.load('y_val.npy')"
      ]
    },
    {
      "cell_type": "code",
      "execution_count": null,
      "metadata": {
        "id": "eczFKxhZm6ON"
      },
      "outputs": [],
      "source": [
        "# create the tensorboard callback\n",
        "import os\n",
        "import time\n",
        "\n",
        "root_logdir = os.path.join(os.curdir, \"tb_logs\")\n",
        "\n",
        "def get_run_logdir():    # use a new directory for each run\n",
        "    run_id = time.strftime(\"run_%Y_%m_%d-%H_%M_%S\")\n",
        "    return os.path.join(root_logdir, run_id)\n",
        "\n",
        "run_logdir = get_run_logdir()\n",
        "tb_callback = tf.keras.callbacks.TensorBoard(run_logdir)\n",
        "\n",
        "# create model checkpoint callback to save the best model checkpoint\n",
        "model_checkpoint_callback = tf.keras.callbacks.ModelCheckpoint(\n",
        "    filepath=\"best_checkpoint\",\n",
        "    save_weights_only=True,\n",
        "    monitor='val_accuracy',\n",
        "    mode='max',\n",
        "    save_best_only=True)"
      ]
    },
    {
      "cell_type": "code",
      "execution_count": null,
      "metadata": {
        "id": "iKqD1T86cQXA"
      },
      "outputs": [],
      "source": [
        "model_top.fit(X_train, y_train, \n",
        "              epochs=100, \n",
        "              validation_data=(X_val, y_val), \n",
        "              callbacks=[tb_callback, model_checkpoint_callback])\n"
      ]
    },
    {
      "cell_type": "code",
      "execution_count": null,
      "metadata": {
        "id": "IwMQWsPfn8Wf"
      },
      "outputs": [],
      "source": [
        "%load_ext tensorboard\n",
        "%tensorboard --logdir tb_logs"
      ]
    },
    {
      "cell_type": "markdown",
      "metadata": {
        "id": "TOqWHsbXoN3K"
      },
      "source": [
        "Let's load the best-performing model checkpoints and use it to compute classification report."
      ]
    },
    {
      "cell_type": "code",
      "execution_count": null,
      "metadata": {
        "id": "DPP1F8f4cQXA"
      },
      "outputs": [],
      "source": [
        "model_top.load_weights('best_checkpoint')\n",
        "y_preds = model_top.predict(X_val)\n",
        "\n",
        "# flatten the 2d array into 1D\n",
        "y_preds = y_preds.flatten() >= 0.5\n",
        "\n",
        "print(classification_report(y_val, y_preds))"
      ]
    },
    {
      "cell_type": "markdown",
      "metadata": {
        "id": "2bs-21XRcQXB"
      },
      "source": [
        "You should see an good improvement in the model compared to your previous result. The model also takes much less time to train. "
      ]
    },
    {
      "cell_type": "markdown",
      "metadata": {
        "id": "XqrdAJdwcQXB"
      },
      "source": [
        "## Prepare the model for deployment\n",
        "\n",
        "We cannot use our `model_top` directly for image classification, as it take extracted features as input, not images. We need to stick back our convolutional base that can take in images directly. This is what we are going to do below. It is also important to include the model-specific pre-processing function as one of the layer."
      ]
    },
    {
      "cell_type": "code",
      "execution_count": null,
      "metadata": {
        "id": "IIU3MBx7cQXB"
      },
      "outputs": [],
      "source": [
        "# specify the input layer with appropriate image shape\n",
        "inputs = layers.Input(shape=(img_height, img_width, 3))\n",
        "\n",
        "# import to include model-specific preprocess function\n",
        "x = preprocess_input_fn(inputs)\n",
        "\n",
        "x = base_model(x)\n",
        "outputs = model_top(x)\n",
        "\n",
        "model_full = keras.models.Model(inputs=[inputs], outputs=[outputs])\n",
        "model_full.compile(loss=\"binary_crossentropy\", \n",
        "                  optimizer=keras.optimizers.Adam(learning_rate=0.001), \n",
        "                  metrics=[\"accuracy\"])\n",
        "\n",
        "model_full.summary()"
      ]
    },
    {
      "cell_type": "code",
      "execution_count": null,
      "metadata": {
        "id": "yGf_nY58cQXC"
      },
      "outputs": [],
      "source": [
        "model_full.save(\"full_model\")"
      ]
    },
    {
      "cell_type": "markdown",
      "metadata": {
        "id": "9ciRBIOgqtQ5"
      },
      "source": [
        "Let's make sure our full model works on the validation dataset (which are images) and gives the same accuracy as before."
      ]
    },
    {
      "cell_type": "code",
      "execution_count": null,
      "metadata": {
        "id": "DaBScJj3cQXC"
      },
      "outputs": [],
      "source": [
        "model_full.evaluate(val_ds)"
      ]
    },
    {
      "cell_type": "markdown",
      "metadata": {
        "id": "VlzFnkBKjq4t"
      },
      "source": [
        "### See your classifier in action\n",
        "\n",
        "Ok, now we are ready to put our classifier to test. Upload your favourite cat and dog images and see your model in action."
      ]
    },
    {
      "cell_type": "code",
      "execution_count": null,
      "metadata": {
        "id": "yo1nv-sTjvlh"
      },
      "outputs": [],
      "source": [
        "# we use google colab api to upload the file\n",
        "# If you are running locally, you may need to change this to use FileUpload ipywidget\n",
        "from google.colab import files\n",
        "\n",
        "uploaded = files.upload()\n",
        "# take only the first file\n",
        "filename = list(uploaded.keys())[0]"
      ]
    },
    {
      "cell_type": "code",
      "execution_count": null,
      "metadata": {
        "id": "Nq2SyJHBkbXF"
      },
      "outputs": [],
      "source": [
        "img = keras.utils.load_img(\n",
        "    filename, target_size=(img_height, img_width)\n",
        ")\n",
        "# we convert the image to numpy array\n",
        "img_array = keras.utils.img_to_array(img)\n",
        "\n",
        "# Although we only have single image, however our model expected data in batches\n",
        "# so we will need to add in the batch axis too\n",
        "img_array = tf.expand_dims(img_array, 0) # Create a batch\n",
        "\n",
        "# we load the model saved earlier and do the inference \n",
        "model = tf.keras.models.load_model('full_model')\n",
        "predictions = model(img_array)\n",
        "print(predictions)\n",
        "if predictions[0] > 0.5: \n",
        "    print('It is a dog')\n",
        "else:\n",
        "    print('It is a cat')"
      ]
    }
  ],
  "metadata": {
    "accelerator": "GPU",
    "anaconda-cloud": {},
    "colab": {
      "name": "2.feature_extraction.ipynb",
      "provenance": [],
      "include_colab_link": true
    },
    "kernelspec": {
      "display_name": "Python 3 (ipykernel)",
      "language": "python",
      "name": "python3"
    },
    "language_info": {
      "codemirror_mode": {
        "name": "ipython",
        "version": 3
      },
      "file_extension": ".py",
      "mimetype": "text/x-python",
      "name": "python",
      "nbconvert_exporter": "python",
      "pygments_lexer": "ipython3",
      "version": "3.8.12"
    },
    "toc": {
      "colors": {
        "hover_highlight": "#DAA520",
        "navigate_num": "#000000",
        "navigate_text": "#333333",
        "running_highlight": "#FF0000",
        "selected_highlight": "#FFD700",
        "sidebar_border": "#EEEEEE",
        "wrapper_background": "#FFFFFF"
      },
      "moveMenuLeft": true,
      "nav_menu": {
        "height": "12px",
        "width": "252px"
      },
      "navigate_menu": true,
      "number_sections": true,
      "sideBar": true,
      "threshold": 4,
      "toc_cell": false,
      "toc_section_display": "block",
      "toc_window_display": false,
      "widenNotebook": false
    }
  },
  "nbformat": 4,
  "nbformat_minor": 0
}